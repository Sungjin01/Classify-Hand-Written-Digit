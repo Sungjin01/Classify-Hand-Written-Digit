{
 "cells": [
  {
   "cell_type": "code",
   "execution_count": 1,
   "id": "8521b3c5-c424-46e9-a529-662791192e97",
   "metadata": {},
   "outputs": [],
   "source": [
    "import torch\n",
    "import torchvision.datasets as dsets\n",
    "import torchvision.transforms as transforms\n",
    "import torch.nn.init\n",
    "import torchvision\n",
    "import matplotlib.pyplot as plt"
   ]
  },
  {
   "cell_type": "markdown",
   "id": "564bb807-7ce2-49ac-b465-ace7865d66b4",
   "metadata": {},
   "source": [
    "<h1>Train</h1>"
   ]
  },
  {
   "cell_type": "code",
   "execution_count": 2,
   "id": "70bba836-a805-439e-81c0-a8cfafe9b071",
   "metadata": {},
   "outputs": [],
   "source": [
    "device = 'cuda' if torch.cuda.is_available() else 'cpu'\n",
    "\n",
    "#Random Seed\n",
    "seed = 1234\n",
    "torch.manual_seed(seed)\n",
    "\n",
    "if device == 'cuda':\n",
    "    torch.cuda.manual_seed_all(seed)\n",
    "\n",
    "#Parameter\n",
    "lr = 0.001\n",
    "epochs = 15\n",
    "batch_size = 100"
   ]
  },
  {
   "cell_type": "code",
   "execution_count": 4,
   "id": "34431cd0-c6a3-4152-ab92-2cf2734c5524",
   "metadata": {
    "scrolled": true
   },
   "outputs": [],
   "source": [
    "#Data Loader\n",
    "mnist_train = dsets.MNIST(root='MNIST__DATA/',\n",
    "                          train=True,\n",
    "                          transform=transforms.ToTensor(),\n",
    "                          download=True)\n",
    "\n",
    "mnist_test = dsets.MNIST(root='MNIST__DATA/',\n",
    "                          train=False,\n",
    "                          transform=transforms.ToTensor(),\n",
    "                          download=True)\n",
    "\n",
    "data_loader = torch.utils.data.DataLoader(dataset=mnist_train,\n",
    "                                          batch_size=batch_size,\n",
    "                                          shuffle=True,\n",
    "                                          drop_last=True)"
   ]
  },
  {
   "cell_type": "code",
   "execution_count": 5,
   "id": "550b35b5-e221-4580-a946-cc195244de06",
   "metadata": {},
   "outputs": [],
   "source": [
    "#Model Define\n",
    "class CNN(torch.nn.Module):\n",
    "\n",
    "    def __init__(self):\n",
    "        super(CNN, self).__init__()\n",
    "        \n",
    "        self.layer1 = torch.nn.Sequential(\n",
    "            torch.nn.Conv2d(1, 32, kernel_size=(3, 3), stride=(1, 1), padding=(1, 1)),\n",
    "            torch.nn.ReLU(),\n",
    "            torch.nn.MaxPool2d(2))\n",
    "        \n",
    "        self.layer2 = torch.nn.Sequential(\n",
    "            torch.nn.Conv2d(32, 64, kernel_size=(3, 3), stride=(1, 1), padding=(1, 1)),\n",
    "            torch.nn.ReLU(),\n",
    "            torch.nn.MaxPool2d(2))\n",
    "        \n",
    "        self.fc = torch.nn.Linear(7*7*64, 10, bias=True)\n",
    "        #이게 뭔지 찾기\n",
    "        torch.nn.init.xavier_uniform_(self.fc.weight)\n",
    "\n",
    "    def forward(self, x):\n",
    "        out = self.layer1(x)\n",
    "        out = self.layer2(out)\n",
    "        #flatten\n",
    "        out = out.view(out.size(0), -1)\n",
    "        out = self.fc(out)\n",
    "        return out"
   ]
  },
  {
   "cell_type": "code",
   "execution_count": 6,
   "id": "2d3293d3-6ed3-498e-ba49-89bf9fe998db",
   "metadata": {},
   "outputs": [],
   "source": [
    "model = CNN().to(device)\n",
    "#cost function and optimizer\n",
    "cost_function = torch.nn.CrossEntropyLoss().to(device)\n",
    "optimizer = torch.optim.Adam(model.parameters(), lr=lr)\n",
    "\n",
    "total_batch = len(data_loader)"
   ]
  },
  {
   "cell_type": "code",
   "execution_count": 24,
   "id": "30fcb411-67b9-4770-be07-503a5741e6cf",
   "metadata": {
    "scrolled": true
   },
   "outputs": [
    {
     "name": "stdout",
     "output_type": "stream",
     "text": [
      "Epoch   1  loss = 0.2231878787279129\n",
      "Epoch   2  loss = 0.062485821545124054\n",
      "Epoch   3  loss = 0.04657670855522156\n",
      "Epoch   4  loss = 0.03861263394355774\n",
      "Epoch   5  loss = 0.031364426016807556\n",
      "Epoch   6  loss = 0.027409888803958893\n",
      "Epoch   7  loss = 0.021661577746272087\n",
      "Epoch   8  loss = 0.018389062955975533\n",
      "Epoch   9  loss = 0.015153851360082626\n",
      "Epoch  10  loss = 0.014429997652769089\n",
      "Epoch  11  loss = 0.010299270041286945\n",
      "Epoch  12  loss = 0.00904388353228569\n",
      "Epoch  13  loss = 0.008121605031192303\n",
      "Epoch  14  loss = 0.0061675976030528545\n",
      "Epoch  15  loss = 0.007687471807003021\n"
     ]
    }
   ],
   "source": [
    "#Train\n",
    "for epoch in range(epochs):\n",
    "    avg_cost = 0\n",
    "    \n",
    "    for X, Y in data_loader:\n",
    "        X = X.to(device)\n",
    "        Y = Y.to(device)\n",
    "        \n",
    "        optimizer.zero_grad()\n",
    "        predict = model(X)\n",
    "        cost = cost_function(predict, Y)\n",
    "        cost.backward()\n",
    "        optimizer.step()\n",
    "        \n",
    "        avg_cost += cost / total_batch\n",
    "    print('Epoch {0:>3}  loss = {1:<5}'.format(epoch+1, avg_cost))\n",
    "\n",
    "#Save model\n",
    "torch.save(model, 'model/model.pt')"
   ]
  },
  {
   "cell_type": "markdown",
   "id": "f711a483-cf07-42a6-9d33-d32fd7d6dfa7",
   "metadata": {},
   "source": [
    "<h1>Test</h1>"
   ]
  },
  {
   "cell_type": "code",
   "execution_count": 7,
   "id": "e4f6015a-ff16-4c9c-a1df-a02268338017",
   "metadata": {
    "scrolled": true
   },
   "outputs": [
    {
     "name": "stderr",
     "output_type": "stream",
     "text": [
      "C:\\Users\\user\\anaconda3\\Lib\\site-packages\\torchvision\\datasets\\mnist.py:80: UserWarning: test_data has been renamed data\n",
      "  warnings.warn(\"test_data has been renamed data\")\n",
      "C:\\Users\\user\\anaconda3\\Lib\\site-packages\\torchvision\\datasets\\mnist.py:70: UserWarning: test_labels has been renamed targets\n",
      "  warnings.warn(\"test_labels has been renamed targets\")\n"
     ]
    },
    {
     "name": "stdout",
     "output_type": "stream",
     "text": [
      "Accuracy: 0.9850999712944031\n"
     ]
    }
   ],
   "source": [
    "#load model\n",
    "model = torch.load('model/model.pt')\n",
    "model.eval()\n",
    "\n",
    "with torch.no_grad():\n",
    "    X_test = mnist_test.test_data.view(len(mnist_test), 1, 28, 28).float().to(device)\n",
    "    Y_test = mnist_test.test_labels.to(device)\n",
    "\n",
    "    prediction = model(X_test)\n",
    "    correct_prediction = torch.argmax(prediction, 1) == Y_test\n",
    "    accuracy = correct_prediction.float().mean()\n",
    "    print('Accuracy:', accuracy.item())"
   ]
  },
  {
   "cell_type": "markdown",
   "id": "1dd4d52e-bb92-42a7-acbe-59ba6ba932fc",
   "metadata": {},
   "source": [
    "<h1>Actual Use</h1>"
   ]
  },
  {
   "cell_type": "code",
   "execution_count": 14,
   "id": "6229f6f9-7951-4118-8f30-891acc0a5cb8",
   "metadata": {},
   "outputs": [
    {
     "name": "stdout",
     "output_type": "stream",
     "text": [
      "3\n"
     ]
    },
    {
     "data": {
      "image/png": "[encoded data removed]",
      "text/plain": [
       "<Figure size 640x480 with 1 Axes>"
      ]
     },
     "metadata": {},
     "output_type": "display_data"
    }
   ],
   "source": [
    "image_path = 'test_image/24.png'\n",
    "img = torchvision.io.read_image(image_path, torchvision.io.ImageReadMode.GRAY)\n",
    "img = transforms.Resize(size=(28, 28))(img)\n",
    "plt.imshow(img.permute(1, 2, 0))\n",
    "img = img.view(1, 1, 28, 28).float().to(device)\n",
    "\n",
    "with torch.no_grad():\n",
    "    prediction = model(img)\n",
    "    print(torch.argmax(prediction, 1).item())"
   ]
  },
  {
   "cell_type": "code",
   "execution_count": null,
   "id": "0a203c71-5846-48d9-a4c9-4517243a94ea",
   "metadata": {},
   "outputs": [],
   "source": []
  }
 ],
 "metadata": {
  "kernelspec": {
   "display_name": "Python 3 (ipykernel)",
   "language": "python",
   "name": "python3"
  },
  "language_info": {
   "codemirror_mode": {
    "name": "ipython",
    "version": 3
   },
   "file_extension": ".py",
   "mimetype": "text/x-python",
   "name": "python",
   "nbconvert_exporter": "python",
   "pygments_lexer": "ipython3",
   "version": "3.11.7"
  }
 },
 "nbformat": 4,
 "nbformat_minor": 5
}
